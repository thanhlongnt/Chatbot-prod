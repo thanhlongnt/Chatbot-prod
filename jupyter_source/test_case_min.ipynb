{
 "cells": [
  {
   "cell_type": "markdown",
   "metadata": {},
   "source": [
    "# Test Case minimization\n",
    "\n",
    "Test case minimization helps simplify complex failing test cases by reducing them to the smallest input that still reproduces the bug. This makes debugging easier and more efficient. The goal is to systematically remove unnecessary elements until only the minimal failing case remains."
   ]
  },
  {
   "cell_type": "code",
   "execution_count": null,
   "metadata": {},
   "outputs": [],
   "source": [
    "# Binary Search Function\n",
    "\n",
    "def binary_search(arr, target):\n",
    "    \"\"\"\n",
    "    Perform binary search on a sorted array to find the target.\n",
    "    Returns the index of the target if found, otherwise -1.\n",
    "    \"\"\"\n",
    "    left, right = 0, len(arr) - 1\n",
    "    while left <= right:\n",
    "        mid = (left + right) // 2\n",
    "        if arr[mid] == target:\n",
    "            return mid\n",
    "        elif arr[mid] < target:\n",
    "            left = mid + 1\n",
    "        else:\n",
    "            right = mid - 1\n",
    "    return -1"
   ]
  },
  {
   "cell_type": "code",
   "execution_count": 1,
   "metadata": {},
   "outputs": [
    {
     "name": "stdout",
     "output_type": "stream",
     "text": [
      "hello world\n"
     ]
    }
   ],
   "source": [
    "\n",
    "\n",
    "# Problematic Test Case\n",
    "# Initial large input where the function fails\n",
    "arr = [1, 3, 3, 5, 7, 9, 11, 13]\n",
    "target = 6\n",
    "result = binary_search(arr, target)  # Expected: -1 (target not found), but it fails\n",
    "print(f\"Original Test Case: {result}\")\n",
    "\n",
    "# Step 1: Minimize the Input\n",
    "# Start by testing smaller subsets of the array while retaining the error.\n",
    "# Subset 1\n",
    "arr = [5, 7]\n",
    "target = 6\n",
    "result = binary_search(arr, target)  # Does it still fail?\n",
    "print(f\"Minimized Test Case 1: {result}\")  # Output should indicate if the issue persists.\n",
    "\n",
    "# Subset 2\n",
    "arr = [3, 5, 7]\n",
    "target = 6\n",
    "result = binary_search(arr, target)  # Does it still fail?\n",
    "print(f\"Minimized Test Case 2: {result}\")  # Output should indicate if the issue persists.\n",
    "\n",
    "# Step 2: Identify the Minimal Failing Input\n",
    "# Further reduce the test case to the smallest size where the bug is still reproducible.\n",
    "arr = [5, 7]\n",
    "target = 6\n",
    "result = binary_search(arr, target)  # Final minimal failing test case\n",
    "print(f\"Final Minimized Test Case: {result}\")  # Expected: -1, but function may fail.\n",
    "\n",
    "# Step 3: Debugging the Issue\n",
    "# Analyze the function behavior with the minimal test case to locate the bug.\n",
    "# In this example, if the function returns 0 (index of 5) instead of -1,\n",
    "# it suggests there is an error in how the bounds (left/right) are updated.\n"
   ]
  }
 ],
 "metadata": {
  "kernelspec": {
   "display_name": "Python 3",
   "language": "python",
   "name": "python3"
  },
  "language_info": {
   "name": "python",
   "version": "3.12.4"
  }
 },
 "nbformat": 4,
 "nbformat_minor": 2
}
