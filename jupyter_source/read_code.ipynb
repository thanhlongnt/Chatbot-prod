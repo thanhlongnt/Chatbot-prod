{
 "cells": [
  {
   "cell_type": "markdown",
   "metadata": {},
   "source": [
    "# Tracing through code\n",
    "\n",
    "Sometimes, a small typo in variable names or a subtle mistake in the logic can break the entire system without causing major errors or warnings. In such cases, tracing through the code carefully and reading it line by line helps to pinpoint the issue. This approach can help detect typos and logical errors that might otherwise go unnoticed by the IDE or compiler.\n",
    "\n",
    "\n",
    "## Example: A function to calculate the total price after applying a discount"
   ]
  },
  {
   "cell_type": "code",
   "execution_count": 1,
   "metadata": {},
   "outputs": [],
   "source": [
    "def calculate_total(price, discount_rate):\n",
    "    \"\"\"\n",
    "    Calculate the total price after applying a discount.\n",
    "    \"\"\"\n",
    "    print(\"Starting total price calculation...\")  # Log the process\n",
    "    discounted_price = price * (1 - discount_rate)\n",
    "    tax = discounted_price * 0.1  # 10% tax\n",
    "    total_price = discounted_price + tax\n",
    "    print(f\"Price: {price}, Discount Rate: {discount_rate}, Total: {total_price}\")\n",
    "    return total_price"
   ]
  },
  {
   "cell_type": "markdown",
   "metadata": {},
   "source": [
    "# Step 1: Introduce a subtle typo\n",
    "Bug: The variable `discount_rate` is accidentally typed as `dicount_rate`"
   ]
  },
  {
   "cell_type": "code",
   "execution_count": 2,
   "metadata": {},
   "outputs": [],
   "source": [
    "def calculate_total_with_typo(price, discount_rate):\n",
    "    \"\"\"\n",
    "    Buggy version with a subtle typo.\n",
    "    \"\"\"\n",
    "    print(\"Starting total price calculation (buggy version)...\")  # Log the process\n",
    "    discounted_price = price * (1 - dicount_rate)  # Typo: `dicount_rate` instead of `discount_rate`\n",
    "    tax = discounted_price * 0.1  # 10% tax\n",
    "    total_price = discounted_price + tax\n",
    "    print(f\"Price: {price}, Discount Rate: {discount_rate}, Total: {total_price}\")\n",
    "    return total_price"
   ]
  },
  {
   "cell_type": "markdown",
   "metadata": {},
   "source": [
    "## Step 2: Reproduce the Issue"
   ]
  },
  {
   "cell_type": "code",
   "execution_count": 3,
   "metadata": {},
   "outputs": [
    {
     "name": "stdout",
     "output_type": "stream",
     "text": [
      "Starting total price calculation (buggy version)...\n",
      "Error detected: name 'dicount_rate' is not defined\n"
     ]
    }
   ],
   "source": [
    "try:\n",
    "    result = calculate_total_with_typo(100, 0.2)\n",
    "    print(f\"Total price: {result}\")\n",
    "except NameError as e:\n",
    "    print(f\"Error detected: {e}\")"
   ]
  },
  {
   "cell_type": "markdown",
   "metadata": {},
   "source": [
    "## Step 3: Trace through the Code\n",
    "Carefully read through the function to trace variable names and logic.\n",
    "1. Identify all variable assignments and ensure the variable names match.\n",
    "2. Compare the buggy implementation with the correct logic in `calculate_total`."
   ]
  },
  {
   "cell_type": "markdown",
   "metadata": {},
   "source": [
    "Observed issue:\n",
    "`dicount_rate` was used instead of `discount_rate`, causing a `NameError`."
   ]
  },
  {
   "cell_type": "markdown",
   "metadata": {},
   "source": [
    "## Step 4: Fix the Typo"
   ]
  },
  {
   "cell_type": "code",
   "execution_count": 4,
   "metadata": {},
   "outputs": [],
   "source": [
    "def calculate_total_fixed(price, discount_rate):\n",
    "    \"\"\"\n",
    "    Fixed version of the function.\n",
    "    \"\"\"\n",
    "    print(\"Starting total price calculation (fixed version)...\")  # Log the process\n",
    "    discounted_price = price * (1 - discount_rate)  # Corrected variable name\n",
    "    tax = discounted_price * 0.1  # 10% tax\n",
    "    total_price = discounted_price + tax\n",
    "    print(f\"Price: {price}, Discount Rate: {discount_rate}, Total: {total_price}\")\n",
    "    return total_price"
   ]
  },
  {
   "cell_type": "markdown",
   "metadata": {},
   "source": [
    "## Step 5: Verify the Fix"
   ]
  },
  {
   "cell_type": "code",
   "execution_count": 5,
   "metadata": {},
   "outputs": [
    {
     "name": "stdout",
     "output_type": "stream",
     "text": [
      "Starting total price calculation (fixed version)...\n",
      "Price: 100, Discount Rate: 0.2, Total: 88.0\n",
      "Total price (fixed): 88.0\n"
     ]
    }
   ],
   "source": [
    "try:\n",
    "    result = calculate_total_fixed(100, 0.2)\n",
    "    print(f\"Total price (fixed): {result}\")  # Expected: 88.0\n",
    "except Exception as e:\n",
    "    print(f\"Error detected after fix: {e}\")\n",
    "\n"
   ]
  },
  {
   "cell_type": "markdown",
   "metadata": {},
   "source": [
    "Tracing through code manually is sometimes the most effective way to uncover subtle bugs that might not trigger IDE warnings or errors."
   ]
  }
 ],
 "metadata": {
  "kernelspec": {
   "display_name": ".venv",
   "language": "python",
   "name": "python3"
  },
  "language_info": {
   "codemirror_mode": {
    "name": "ipython",
    "version": 3
   },
   "file_extension": ".py",
   "mimetype": "text/x-python",
   "name": "python",
   "nbconvert_exporter": "python",
   "pygments_lexer": "ipython3",
   "version": "3.12.4"
  }
 },
 "nbformat": 4,
 "nbformat_minor": 2
}
