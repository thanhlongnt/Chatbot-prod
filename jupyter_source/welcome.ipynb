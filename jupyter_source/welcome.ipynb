{
 "cells": [
  {
   "cell_type": "markdown",
   "metadata": {},
   "source": [
    "# Welcome to debugging chatbot!\n",
    "\n",
    "## This chatbot provides fault localization stratergies to help you find your faulty code. \n",
    "\n",
    "If you have any questions, feel free to email Michael Coblenz, Jacob Yim, or Thanh-Long Nguyen-Trong"
   ]
  }
 ],
 "metadata": {
  "language_info": {
   "name": "python"
  }
 },
 "nbformat": 4,
 "nbformat_minor": 2
}
