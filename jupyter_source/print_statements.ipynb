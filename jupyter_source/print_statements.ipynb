{
 "cells": [
  {
   "cell_type": "markdown",
   "metadata": {},
   "source": [
    "# Print statements\n",
    "\n",
    "Using print statements is a straightforward debugging technique to monitor program flow and track the state of variables at various points during execution. This method is especially useful when dealing with race conditions, out-of-bounds errors, or verifying if specific parts of the code are being executed. By adding print statements strategically, you can quickly identify where things go wrong.\n",
    "\n",
    "## Example: A function that calculates cumulative sums of a list"
   ]
  },
  {
   "cell_type": "code",
   "execution_count": 19,
   "metadata": {},
   "outputs": [],
   "source": [
    "def cumulative_sum(arr):\n",
    "    \"\"\"\n",
    "    Calculate the cumulative sum of an array.\n",
    "    \"\"\"\n",
    "    cumulative = []\n",
    "    for i in range(len(arr) + 1):  # Intentional bug: range goes out of bounds\n",
    "        print(f\"Index: {i}\")  # Print to monitor index\n",
    "        cumulative.append(arr[i] + (cumulative[-1] if cumulative else 0))\n",
    "        print(f\"cumulative[{i}] = {cumulative[-1]}\")  # Monitor calculations\n",
    "    return cumulative"
   ]
  },
  {
   "cell_type": "markdown",
   "metadata": {},
   "source": [
    "## Step 1: Reproduce the Issue"
   ]
  },
  {
   "cell_type": "code",
   "execution_count": 20,
   "metadata": {},
   "outputs": [
    {
     "name": "stdout",
     "output_type": "stream",
     "text": [
      "Index: 0\n",
      "cumulative[0] = 1\n",
      "Index: 1\n",
      "cumulative[1] = 3\n",
      "Index: 2\n",
      "cumulative[2] = 6\n",
      "Index: 3\n",
      "cumulative[3] = 10\n",
      "Index: 4\n",
      "Error encountered: list index out of range\n"
     ]
    }
   ],
   "source": [
    "try:\n",
    "    result = cumulative_sum([1, 2, 3, 4])\n",
    "    print(\"Cumulative sum:\", result)  # Expected: [1, 3, 6, 10]\n",
    "except IndexError as e:\n",
    "    print(f\"Error encountered: {e}\")"
   ]
  },
  {
   "cell_type": "markdown",
   "metadata": {},
   "source": [
    "## Step 2: Add More Print Statements to Debug"
   ]
  },
  {
   "cell_type": "code",
   "execution_count": 21,
   "metadata": {},
   "outputs": [],
   "source": [
    "def debug_cumulative_sum(arr):\n",
    "    \"\"\"\n",
    "    Debugging version of the cumulative sum function with print statements.\n",
    "    \"\"\"\n",
    "    print(\"Starting cumulative sum calculation...\")\n",
    "    cumulative = []\n",
    "    for i in range(len(arr) + 1):  # Bug: range goes out of bounds\n",
    "        print(f\"Processing index {i}...\")\n",
    "        print(f\"Adding arr[{i}] = {arr[i]} to cumulative sum\")\n",
    "        cumulative.append(arr[i] + (cumulative[-1] if cumulative else 0))\n",
    "        print(f\"Updated cumulative: {cumulative}\")\n",
    "    return cumulative"
   ]
  },
  {
   "cell_type": "markdown",
   "metadata": {},
   "source": [
    "## Step 3: Drill Down with Print Statements"
   ]
  },
  {
   "cell_type": "code",
   "execution_count": 22,
   "metadata": {},
   "outputs": [
    {
     "name": "stdout",
     "output_type": "stream",
     "text": [
      "Starting cumulative sum calculation...\n",
      "Processing index 0...\n",
      "Adding arr[0] = 1 to cumulative sum\n",
      "Updated cumulative: [1]\n",
      "Processing index 1...\n",
      "Adding arr[1] = 2 to cumulative sum\n",
      "Updated cumulative: [1, 3]\n",
      "Processing index 2...\n",
      "Adding arr[2] = 3 to cumulative sum\n",
      "Updated cumulative: [1, 3, 6]\n",
      "Processing index 3...\n",
      "Adding arr[3] = 4 to cumulative sum\n",
      "Updated cumulative: [1, 3, 6, 10]\n",
      "Processing index 4...\n",
      "Error encountered during debugging: list index out of range\n"
     ]
    }
   ],
   "source": [
    "try:\n",
    "    result = debug_cumulative_sum([1, 2, 3, 4])\n",
    "    print(\"Cumulative sum (debugged):\", result)\n",
    "except IndexError as e:\n",
    "    print(f\"Error encountered during debugging: {e}\")"
   ]
  },
  {
   "cell_type": "markdown",
   "metadata": {},
   "source": [
    "## Step 4: Fix the Bug"
   ]
  },
  {
   "cell_type": "code",
   "execution_count": 23,
   "metadata": {},
   "outputs": [],
   "source": [
    "def fixed_cumulative_sum(arr):\n",
    "    \"\"\"\n",
    "    Fixed version of the cumulative sum function.\n",
    "    \"\"\"\n",
    "    print(\"Starting fixed cumulative sum calculation...\")\n",
    "    cumulative = []\n",
    "    for i in range(len(arr)):  # Fixed: loop only up to len(arr)\n",
    "        print(f\"Processing index {i}...\")\n",
    "        cumulative.append(arr[i] + (cumulative[-1] if cumulative else 0))\n",
    "        print(f\"Updated cumulative: {cumulative}\")\n",
    "    return cumulative"
   ]
  },
  {
   "cell_type": "markdown",
   "metadata": {},
   "source": [
    "## Step 5: Verify the Fix"
   ]
  },
  {
   "cell_type": "code",
   "execution_count": 24,
   "metadata": {},
   "outputs": [
    {
     "name": "stdout",
     "output_type": "stream",
     "text": [
      "Starting fixed cumulative sum calculation...\n",
      "Processing index 0...\n",
      "Updated cumulative: [1]\n",
      "Processing index 1...\n",
      "Updated cumulative: [1, 3]\n",
      "Processing index 2...\n",
      "Updated cumulative: [1, 3, 6]\n",
      "Processing index 3...\n",
      "Updated cumulative: [1, 3, 6, 10]\n",
      "Cumulative sum (fixed): [1, 3, 6, 10]\n"
     ]
    }
   ],
   "source": [
    "result = fixed_cumulative_sum([1, 2, 3, 4])\n",
    "print(\"Cumulative sum (fixed):\", result)  # Expected: [1, 3, 6, 10]"
   ]
  },
  {
   "cell_type": "markdown",
   "metadata": {},
   "source": [
    "Print statements are useful for visualizing the execution flow and verifying the correctness of data at each step.\n",
    "\n",
    "This method can help detect issues such as off-by-one errors, incorrect indexing, or unexpected function calls.\n",
    "\n",
    "In production, these prints should be replaced with proper logging mechanisms to avoid cluttering the output and to capture more detailed logs for performance monitoring and error tracking.\n",
    "\n",
    "Alternatively, you could also use the debugger to visualize your variables"
   ]
  }
 ],
 "metadata": {
  "kernelspec": {
   "display_name": ".venv",
   "language": "python",
   "name": "python3"
  },
  "language_info": {
   "codemirror_mode": {
    "name": "ipython",
    "version": 3
   },
   "file_extension": ".py",
   "mimetype": "text/x-python",
   "name": "python",
   "nbconvert_exporter": "python",
   "pygments_lexer": "ipython3",
   "version": "3.12.4"
  }
 },
 "nbformat": 4,
 "nbformat_minor": 2
}
