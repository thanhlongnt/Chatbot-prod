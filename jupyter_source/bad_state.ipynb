{
 "cells": [
  {
   "cell_type": "markdown",
   "metadata": {},
   "source": [
    "# Bad state\n",
    "\n",
    "When debugging a bad state, the goal is to insert operations until an incorrect state is detected. If performing an operation (e.g., pushing or popping from a stack) leads to an unexpected result, assertions can be added throughout the function to pinpoint where the state first goes wrong. Once identified, drilling down into the faulty logic helps fix the issue.\n",
    "\n",
    "\n",
    "## Example: A function that sorts a list but ends up in a bad state\n"
   ]
  },
  {
   "cell_type": "code",
   "execution_count": 1,
   "metadata": {},
   "outputs": [],
   "source": [
    "def custom_sort(arr):\n",
    "    \"\"\"\n",
    "    Custom sorting function (example buggy implementation).\n",
    "    Sorts an array of integers in ascending order.\n",
    "    \"\"\"\n",
    "    # Example buggy implementation (modifies array incorrectly)\n",
    "    for i in range(len(arr)):\n",
    "        for j in range(i + 1, len(arr)):\n",
    "            if arr[i] > arr[j]:\n",
    "                # Swap elements\n",
    "                arr[i], arr[j] = arr[j], arr[i]\n",
    "                # Bug: accidentally duplicates an element (simulating a bad state)\n",
    "                if arr[i] % 2 == 0:  # Faulty condition for demonstration\n",
    "                    arr[j] = arr[i]\n",
    "    return arr"
   ]
  },
  {
   "cell_type": "markdown",
   "metadata": {},
   "source": [
    "## Step 1: Reproduce the Issue"
   ]
  },
  {
   "cell_type": "code",
   "execution_count": 2,
   "metadata": {},
   "outputs": [
    {
     "name": "stdout",
     "output_type": "stream",
     "text": [
      "Original array: [5, 3, 8, 6, 2]\n",
      "Sorted array: [2, 2, 2, 2, 2]\n"
     ]
    }
   ],
   "source": [
    "arr = [5, 3, 8, 6, 2]\n",
    "print(\"Original array:\", arr)\n",
    "sorted_arr = custom_sort(arr)\n",
    "print(\"Sorted array:\", sorted_arr)  # Expected: [2, 3, 5, 6, 8], but observe incorrect result"
   ]
  },
  {
   "cell_type": "markdown",
   "metadata": {},
   "source": [
    "## Step 2: Sprinkle Assertions to Check for Bad State"
   ]
  },
  {
   "cell_type": "code",
   "execution_count": 3,
   "metadata": {},
   "outputs": [],
   "source": [
    "def debug_custom_sort(arr):\n",
    "    \"\"\"\n",
    "    Debugging version of the custom sort function with assertions.\n",
    "    \"\"\"\n",
    "    print(\"Starting sorting process...\")\n",
    "    for i in range(len(arr)):\n",
    "        for j in range(i + 1, len(arr)):\n",
    "            if arr[i] > arr[j]:\n",
    "                arr[i], arr[j] = arr[j], arr[i]\n",
    "                # Add assertions to check the state\n",
    "                assert arr == sorted(arr[:j + 1]) + arr[j + 1:], \\\n",
    "                    f\"Bad state after swap: {arr}\"  # Ensure partial sorting is correct\n",
    "                # Buggy line: duplicates element if arr[i] is even\n",
    "                if arr[i] % 2 == 0:\n",
    "                    arr[j] = arr[i]\n",
    "                    # Assertion to detect the bad state immediately\n",
    "                    assert len(arr) == len(set(arr)), f\"Duplicate found: {arr}\"\n",
    "    return arr"
   ]
  },
  {
   "cell_type": "markdown",
   "metadata": {},
   "source": [
    "## Step 3: Debug the Function"
   ]
  },
  {
   "cell_type": "code",
   "execution_count": 4,
   "metadata": {},
   "outputs": [
    {
     "name": "stdout",
     "output_type": "stream",
     "text": [
      "Starting sorting process...\n",
      "AssertionError detected: Bad state after swap: [2, 5, 8, 6, 3]\n"
     ]
    }
   ],
   "source": [
    "try:\n",
    "    debug_custom_sort([5, 3, 8, 6, 2])\n",
    "except AssertionError as e:\n",
    "    print(f\"AssertionError detected: {e}\")"
   ]
  },
  {
   "cell_type": "markdown",
   "metadata": {},
   "source": [
    "## Step 4: Drill Down to the Problematic Code\n",
    "The assertion pinpoints the problematic step in the loop where the bad state occurs.\n",
    "Once identified, inspect the logic and fix the bug."
   ]
  },
  {
   "cell_type": "code",
   "execution_count": 5,
   "metadata": {},
   "outputs": [],
   "source": [
    "def fixed_custom_sort(arr):\n",
    "    \"\"\"\n",
    "    Fixed version of the sorting function.\n",
    "    \"\"\"\n",
    "    for i in range(len(arr)):\n",
    "        for j in range(i + 1, len(arr)):\n",
    "            if arr[i] > arr[j]:\n",
    "                arr[i], arr[j] = arr[j], arr[i]\n",
    "                # Remove faulty duplication logic\n",
    "    return arr"
   ]
  },
  {
   "cell_type": "markdown",
   "metadata": {},
   "source": [
    "## Step 5: Verify the Fix"
   ]
  },
  {
   "cell_type": "code",
   "execution_count": 6,
   "metadata": {},
   "outputs": [
    {
     "name": "stdout",
     "output_type": "stream",
     "text": [
      "Sorted array after fix: [2, 3, 5, 6, 8]\n"
     ]
    }
   ],
   "source": [
    "arr = [5, 3, 8, 6, 2]\n",
    "sorted_arr = fixed_custom_sort(arr)\n",
    "print(\"Sorted array after fix:\", sorted_arr)  # Expected: [2, 3, 5, 6, 8]\n"
   ]
  },
  {
   "cell_type": "markdown",
   "metadata": {},
   "source": [
    "Assertions help catch inconsistencies early instead of waiting for subtle failures later.\n",
    "\n",
    "Debugging with step-by-step assertions narrows down the exact point where the state becomes incorrect.\n",
    "\n",
    "In industry, logging and automated tests are used alongside assertions to detect and fix such issues efficiently."
   ]
  }
 ],
 "metadata": {
  "kernelspec": {
   "display_name": ".venv",
   "language": "python",
   "name": "python3"
  },
  "language_info": {
   "codemirror_mode": {
    "name": "ipython",
    "version": 3
   },
   "file_extension": ".py",
   "mimetype": "text/x-python",
   "name": "python",
   "nbconvert_exporter": "python",
   "pygments_lexer": "ipython3",
   "version": "3.12.4"
  }
 },
 "nbformat": 4,
 "nbformat_minor": 2
}
